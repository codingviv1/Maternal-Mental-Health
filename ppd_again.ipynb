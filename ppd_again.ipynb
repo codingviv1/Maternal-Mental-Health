{
 "cells": [
  {
   "cell_type": "code",
   "execution_count": 2,
   "id": "d56ebaba",
   "metadata": {},
   "outputs": [
    {
     "name": "stdout",
     "output_type": "stream",
     "text": [
      "Preprocessing complete. Cleaned dataset saved as: PPD_dataset_cleaned.csv\n"
     ]
    }
   ],
   "source": [
    "import pandas as pd\n",
    "from sklearn.preprocessing import LabelEncoder\n",
    "\n",
    "# Load dataset\n",
    "file_path = \"Data for Postpartum Depression Prediction in Bangladesh/PPD_dataset.csv\"  # Replace with your path if different\n",
    "df = pd.read_csv(file_path)\n",
    "\n",
    "# Drop irrelevant column\n",
    "df.drop(columns=['sr'], inplace=True)\n",
    "\n",
    "# Drop rows with missing values (only 1 missing in the original data)\n",
    "df.dropna(inplace=True)\n",
    "\n",
    "# Identify categorical columns\n",
    "cat_cols = df.select_dtypes(include='object').columns.tolist()\n",
    "\n",
    "# Separate binary and multi-class categorical columns\n",
    "binary_cols = []\n",
    "multi_class_cols = []\n",
    "\n",
    "for col in cat_cols:\n",
    "    unique_vals = df[col].nunique()\n",
    "    if unique_vals == 2:\n",
    "        binary_cols.append(col)\n",
    "    else:\n",
    "        multi_class_cols.append(col)\n",
    "\n",
    "# Apply label encoding to binary columns (e.g., Yes/No)\n",
    "le = LabelEncoder()\n",
    "for col in binary_cols:\n",
    "    df[col] = le.fit_transform(df[col])\n",
    "\n",
    "# Apply one-hot encoding to multi-class columns\n",
    "df = pd.get_dummies(df, columns=multi_class_cols, drop_first=True)\n",
    "\n",
    "# Save the cleaned and encoded data to a new CSV\n",
    "output_path = \"PPD_dataset_cleaned.csv\"\n",
    "df.to_csv(output_path, index=False)\n",
    "\n",
    "print(\"Preprocessing complete. Cleaned dataset saved as:\", output_path)\n"
   ]
  }
 ],
 "metadata": {
  "kernelspec": {
   "display_name": "Python 3",
   "language": "python",
   "name": "python3"
  },
  "language_info": {
   "codemirror_mode": {
    "name": "ipython",
    "version": 3
   },
   "file_extension": ".py",
   "mimetype": "text/x-python",
   "name": "python",
   "nbconvert_exporter": "python",
   "pygments_lexer": "ipython3",
   "version": "3.12.10"
  }
 },
 "nbformat": 4,
 "nbformat_minor": 5
}
